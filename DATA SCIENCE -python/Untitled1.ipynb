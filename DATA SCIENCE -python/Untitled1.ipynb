{
 "cells": [
  {
   "cell_type": "code",
   "execution_count": 6,
   "id": "96888055-6741-4e34-9443-24d874179a82",
   "metadata": {
    "tags": []
   },
   "outputs": [],
   "source": [
    "import urllib.request"
   ]
  },
  {
   "cell_type": "code",
   "execution_count": 2,
   "id": "b25e0b62-125b-42ed-bca4-2269ed8411bd",
   "metadata": {
    "tags": []
   },
   "outputs": [],
   "source": [
    "link = 'https://www.airlinequality.com/airline-reviews/british-airways'"
   ]
  },
  {
   "cell_type": "code",
   "execution_count": 10,
   "id": "8935383b-27ee-4d56-b2a0-1f05f60ed4fb",
   "metadata": {
    "tags": []
   },
   "outputs": [],
   "source": [
    "from urllib.request import Request, urlopen\n",
    "\n",
    "req = Request(\n",
    "    url='https://www.airlinequality.com/airline-reviews/british-airways',\n",
    "    headers={'User-Agent': 'Mozilla/5.0'}\n",
    ")\n",
    "webpage = urlopen(req).read()"
   ]
  },
  {
   "cell_type": "code",
   "execution_count": null,
   "id": "e5560201-2955-4434-bea1-52f9d3df98af",
   "metadata": {
    "tags": []
   },
   "outputs": [],
   "source": []
  },
  {
   "cell_type": "code",
   "execution_count": null,
   "id": "dbc5202b-3da0-4112-881b-2664bff22cb1",
   "metadata": {},
   "outputs": [],
   "source": []
  }
 ],
 "metadata": {
  "kernelspec": {
   "display_name": "Python 3 (ipykernel)",
   "language": "python",
   "name": "python3"
  },
  "language_info": {
   "codemirror_mode": {
    "name": "ipython",
    "version": 3
   },
   "file_extension": ".py",
   "mimetype": "text/x-python",
   "name": "python",
   "nbconvert_exporter": "python",
   "pygments_lexer": "ipython3",
   "version": "3.11.4"
  }
 },
 "nbformat": 4,
 "nbformat_minor": 5
}
